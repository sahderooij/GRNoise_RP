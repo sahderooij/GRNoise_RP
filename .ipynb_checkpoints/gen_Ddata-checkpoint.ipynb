{
 "cells": [
  {
   "cell_type": "code",
   "execution_count": 1,
   "metadata": {},
   "outputs": [],
   "source": [
    "import numpy as np\n",
    "from scipy import integrate\n",
    "from scipy.optimize import minimize_scalar as minisc"
   ]
  },
  {
   "cell_type": "code",
   "execution_count": 2,
   "metadata": {},
   "outputs": [],
   "source": [
    "kbTc = 1.2*86.17\n",
    "D0 = 1.76*kbTc\n",
    "N0 = 1.72e4\n",
    "kbTD = 37312.\n",
    "def integrand1(E,D):\n",
    "            return 1/np.sqrt(E**2-D**2)\n",
    "Vsc = 1/(integrate.quad(integrand1,D0,kbTD,args = (D0,))[0]*N0)"
   ]
  },
  {
   "cell_type": "code",
   "execution_count": null,
   "metadata": {},
   "outputs": [
    {
     "name": "stderr",
     "output_type": "stream",
     "text": [
      "C:\\Users\\Steven\\Anaconda3\\lib\\site-packages\\ipykernel_launcher.py:10: RuntimeWarning: invalid value encountered in sqrt\n",
      "  # Remove the CWD from sys.path while we load stuff.\n",
      "C:\\Users\\Steven\\Anaconda3\\lib\\site-packages\\ipykernel_launcher.py:14: IntegrationWarning: The occurrence of roundoff error is detected, which prevents \n",
      "  the requested tolerance from being achieved.  The error may be \n",
      "  underestimated.\n",
      "  \n"
     ]
    }
   ],
   "source": [
    "def f(E,kbT):\n",
    "    with np.errstate(over='raise',under='ignore'):\n",
    "        try:\n",
    "            return 1 / (1 + np.exp(E / kbT))\n",
    "        except FloatingPointError:\n",
    "            return np.exp(-E/kbT)\n",
    "\n",
    "def D(kbT,N0,Vsc,kbTD):\n",
    "    def integrandD(E,D,kbT,N0,Vsc):\n",
    "        return N0*Vsc*(1-2*f(E,kbT))/np.sqrt(E**2-D**2)\n",
    "\n",
    "    def dint(D,kbT,N0,Vsc,kbTD):\n",
    "        return np.abs(integrate.quad(integrandD,D,kbTD,\n",
    "                                     args = (D,kbT,N0,Vsc))[0] - 1)\n",
    "    res = minisc(dint, \n",
    "                 args = (kbT,N0,Vsc,kbTD),\n",
    "                method='brent',\n",
    "                options = {'xtol':1e-21})\n",
    "    if res.success:\n",
    "        return res.x\n",
    "\n",
    "points = 100\n",
    "Ddata = np.zeros((2,points))\n",
    "i = 0\n",
    "for kbT in np.logspace(1e-2,99e-2,points):\n",
    "    Ddata[0,i] = kbT\n",
    "    Ddata[1,i] = D(kbT,N0,Vsc,kbTD)\n",
    "    i += 1"
   ]
  },
  {
   "cell_type": "code",
   "execution_count": 90,
   "metadata": {},
   "outputs": [
    {
     "data": {
      "text/plain": [
       "(181.99101, 181.991045)"
      ]
     },
     "execution_count": 90,
     "metadata": {},
     "output_type": "execute_result"
    },
    {
     "data": {
      "image/png": "[encoded data removed]",
      "text/plain": [
       "<Figure size 432x288 with 1 Axes>"
      ]
     },
     "metadata": {
      "needs_background": "light"
     },
     "output_type": "display_data"
    }
   ],
   "source": [
    "from scipy import interpolate\n",
    "\n",
    "Ddata = np.load('../Coding/Ddata_Al_1_2.npy')\n",
    "plt.plot(Ddata[0,:]/86.17,Ddata[1,:],'o')\n",
    "Dspl = interpolate.splrep(Ddata[0, :], Ddata[1, :], s=5e-9)\n",
    "plt.plot(np.linspace(0,.14,100),\n",
    "         interpolate.splev(np.linspace(0,.14,100)*86.17,Dspl))\n",
    "plt.xlim(0,.14)\n",
    "plt.ylim(181.99101,181.991045)"
   ]
  },
  {
   "cell_type": "code",
   "execution_count": 5,
   "metadata": {},
   "outputs": [],
   "source": [
    "np.save('Ddata_Al_1_255',Ddata)"
   ]
  },
  {
   "cell_type": "code",
   "execution_count": 6,
   "metadata": {},
   "outputs": [
    {
     "data": {
      "text/plain": [
       "9.736267969683757e-06"
      ]
     },
     "execution_count": 6,
     "metadata": {},
     "output_type": "execute_result"
    }
   ],
   "source": [
    "Vsc"
   ]
  }
 ],
 "metadata": {
  "kernelspec": {
   "display_name": "Python 3",
   "language": "python",
   "name": "python3"
  },
  "language_info": {
   "codemirror_mode": {
    "name": "ipython",
    "version": 3
   },
   "file_extension": ".py",
   "mimetype": "text/x-python",
   "name": "python",
   "nbconvert_exporter": "python",
   "pygments_lexer": "ipython3",
   "version": "3.7.6"
  },
  "widgets": {
   "application/vnd.jupyter.widget-state+json": {
    "state": {},
    "version_major": 2,
    "version_minor": 0
   }
  }
 },
 "nbformat": 4,
 "nbformat_minor": 4
}
