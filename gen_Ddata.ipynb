{
 "cells": [
  {
   "cell_type": "code",
   "execution_count": 100,
   "metadata": {},
   "outputs": [],
   "source": [
    "import numpy as np\n",
    "from scipy import integrate\n",
    "from scipy.optimize import minimize_scalar as minisc\n",
    "from scipy import interpolate\n",
    "import matplotlib.pyplot as plt"
   ]
  },
  {
   "cell_type": "code",
   "execution_count": 101,
   "metadata": {},
   "outputs": [],
   "source": [
    "Tc = 1.255"
   ]
  },
  {
   "cell_type": "code",
   "execution_count": 102,
   "metadata": {},
   "outputs": [],
   "source": [
    "kbTc = Tc*86.17\n",
    "D0 = 1.76*kbTc\n",
    "N0 = 1.72e4\n",
    "kbTD = 37312.\n",
    "def integrand1(E,D):\n",
    "            return 1/np.sqrt(E**2-D**2)\n",
    "Vsc = 1/(integrate.quad(integrand1,D0,kbTD,args = (D0,))[0]*N0)\n",
    "\n",
    "def f(E,kbT):\n",
    "    with np.errstate(over='raise',under='ignore'):\n",
    "        try:\n",
    "            return 1 / (1 + np.exp(E / kbT))\n",
    "        except FloatingPointError:\n",
    "            return np.exp(-E/kbT)\n",
    "\n",
    "def D(kbT,N0,Vsc,kbTD):\n",
    "    def integrandD(E,D,kbT,N0,Vsc):\n",
    "        return N0*Vsc*(1-2*f(E,kbT))/np.sqrt(E**2-D**2)\n",
    "\n",
    "    def dint(D,kbT,N0,Vsc,kbTD):\n",
    "        return np.abs(integrate.quad(integrandD,D,kbTD,\n",
    "                                     args = (D,kbT,N0,Vsc))[0] - 1)\n",
    "    res = minisc(dint, \n",
    "                 args = (kbT,N0,Vsc,kbTD),\n",
    "                method='brent',\n",
    "                options = {'xtol':1e-21})\n",
    "    if res.success:\n",
    "        return res.x\n",
    "\n",
    "points = 1000\n",
    "Ddata = np.zeros((2,points))\n",
    "i = 0\n",
    "for kbT in np.logspace(np.log10(0.01),np.log10(99e-2),points)*kbTc:\n",
    "    Ddata[0,i] = kbT\n",
    "    Ddata[1,i] = D(kbT,N0,Vsc,kbTD)\n",
    "    i += 1"
   ]
  },
  {
   "cell_type": "code",
   "execution_count": 103,
   "metadata": {},
   "outputs": [
    {
     "data": {
      "image/png": "[encoded data removed]",
      "text/plain": [
       "<Figure size 432x288 with 1 Axes>"
      ]
     },
     "metadata": {
      "needs_background": "light"
     },
     "output_type": "display_data"
    }
   ],
   "source": [
    "plt.plot(Ddata[0,:]/kbTc,Ddata[1,:],'o')\n",
    "Dspl = interpolate.splrep(Ddata[0, :], Ddata[1, :])\n",
    "# plt.plot(np.linspace(0,1.2,points),\n",
    "#          interpolate.splev(np.linspace(0,1.2,points)*86.17,Dspl))\n",
    "# plt.xlim(0,.14)\n",
    "# plt.ylim(181.9910399,181.9910401)\n",
    "# plt.yscale('log')"
   ]
  },
  {
   "cell_type": "code",
   "execution_count": 104,
   "metadata": {},
   "outputs": [],
   "source": [
    "np.save('Ddata_Al_1_255',Ddata)"
   ]
  },
  {
   "cell_type": "code",
   "execution_count": 105,
   "metadata": {},
   "outputs": [
    {
     "data": {
      "text/plain": [
       "9.736267969683833e-06"
      ]
     },
     "execution_count": 105,
     "metadata": {},
     "output_type": "execute_result"
    }
   ],
   "source": [
    "Vsc"
   ]
  },
  {
   "cell_type": "code",
   "execution_count": null,
   "metadata": {},
   "outputs": [],
   "source": []
  }
 ],
 "metadata": {
  "kernelspec": {
   "display_name": "Python 3",
   "language": "python",
   "name": "python3"
  },
  "language_info": {
   "codemirror_mode": {
    "name": "ipython",
    "version": 3
   },
   "file_extension": ".py",
   "mimetype": "text/x-python",
   "name": "python",
   "nbconvert_exporter": "python",
   "pygments_lexer": "ipython3",
   "version": "3.7.6"
  },
  "widgets": {
   "application/vnd.jupyter.widget-state+json": {
    "state": {},
    "version_major": 2,
    "version_minor": 0
   }
  }
 },
 "nbformat": 4,
 "nbformat_minor": 4
}
