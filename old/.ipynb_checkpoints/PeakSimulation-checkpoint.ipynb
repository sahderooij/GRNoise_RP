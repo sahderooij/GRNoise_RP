{
 "cells": [
  {
   "cell_type": "code",
   "execution_count": 1,
   "metadata": {},
   "outputs": [],
   "source": [
    "from calc_funcs import *\n",
    "import numpy as np\n",
    "import matplotlib.pyplot as plt\n",
    "from scipy.integrate import odeint"
   ]
  },
  {
   "cell_type": "code",
   "execution_count": 2,
   "metadata": {},
   "outputs": [],
   "source": [
    "### General parameters\n",
    "V = 10.**3 # um^3\n",
    "kbTc = 100.8 #ueV\n",
    "D0 = 1.76*kbTc #ueV\n",
    "kbT = D0/10 #ueV\n",
    "kbTD = 37312. #ueV\n",
    "N0 = 1.74*10**4 #ueV^-1 um^-3\n",
    "Vsc = .1655/1.74*10**-4 #ueV um^3, so that 1/N0*Vsc = 6.12, from 2.2\n",
    "t0 = 440 #ns\n",
    "tesc = .17 #ns\n",
    "tpb = .11 #ns\n",
    "ak = .28 #arb.\n",
    "d = .06 #um\n",
    "lbd0 = .092 #um\n",
    "hw = D0/10 #ueV\n",
    "w0 = 26.74 #GHz (To match MW,hw)\n",
    "Qc = 2*10**5 #arb."
   ]
  },
  {
   "cell_type": "code",
   "execution_count": 3,
   "metadata": {},
   "outputs": [],
   "source": [
    "#### Calculate N_qp evolution\n",
    "def rateeq(N,t,params):\n",
    "    N_qp, N_w = N\n",
    "    R, V, G_B, G_es, N_w0 = params\n",
    "    derivs = [-R*N_qp**2/V + 2*G_B*N_w, \n",
    "             R*N_qp**2/(2*V) - G_B*N_w - G_es*(N_w - N_w0)]\n",
    "    return derivs\n",
    "\n",
    "# Parameters\n",
    "R = (2*D0/kbTc)**3/(2*D0*N0*t0) # ns^-1*um^3 (From Wilson2004 or 2.29)\n",
    "G_B = 1/tpb # ns^-1 (From chap8)\n",
    "G_es = 1/tesc  # ns^-1 (From chap8)\n",
    "\n",
    "N_qp0 = V*calc_nqp(kbT,calc_D(kbT,N0,Vsc,kbTD),N0)\n",
    "N_w0 = R*N_qp0**2*tpb/(2*V) # arb. \n",
    "\n",
    "# Phonon trapping\n",
    "# Fw = 1 + G_B/G_es\n",
    "# R = 2*Fw**-1*R\n",
    "\n",
    "params = [R, V, G_B, G_es, N_w0]\n",
    "\n",
    "# Initial values\n",
    "N_qp = N_qp0*10**7 #arb.\n",
    "N_w = N_w0 #arb.\n",
    "N_0 = [N_qp, N_w]\n",
    "\n",
    "# Time array\n",
    "tStop = 8000. # ns\n",
    "tInc = 10. # ns\n",
    "t = np.arange(0., tStop, tInc)\n",
    "\n",
    "psoln = odeint(rateeq, N_0, t, args=(params,))"
   ]
  },
  {
   "cell_type": "code",
   "execution_count": 4,
   "metadata": {},
   "outputs": [
    {
     "data": {
      "image/png": "[encoded data removed]",
      "text/plain": [
       "<Figure size 432x288 with 2 Axes>"
      ]
     },
     "metadata": {
      "needs_background": "light"
     },
     "output_type": "display_data"
    }
   ],
   "source": [
    "fig = plt.figure(1)\n",
    "\n",
    "ax1 = fig.add_subplot(211)\n",
    "ax1.plot(t, psoln[:,0])\n",
    "ax1.set_xlabel('time')\n",
    "ax1.set_ylabel('N_qp')\n",
    "ax1.set_yscale('log')\n",
    "\n",
    "ax2 = fig.add_subplot(212)\n",
    "ax2.plot(t, psoln[:,1])\n",
    "ax2.set_xlabel('time')\n",
    "ax2.set_ylabel('N_w')\n",
    "ax2.set_yscale('log')\n",
    "\n",
    "plt.show()\n",
    "# print('N_qp saturated = {:e}'.format(psoln[-1,0]))"
   ]
  },
  {
   "cell_type": "code",
   "execution_count": 48,
   "metadata": {},
   "outputs": [],
   "source": [
    "### Calculate the (A,theta) response for every N_qp"
   ]
  },
  {
   "cell_type": "code",
   "execution_count": 53,
   "metadata": {
    "scrolled": true
   },
   "outputs": [
    {
     "data": {
      "image/png": "[encoded data removed]",
      "text/plain": [
       "<Figure size 360x360 with 1 Axes>"
      ]
     },
     "metadata": {
      "needs_background": "light"
     },
     "output_type": "display_data"
    }
   ],
   "source": [
    "D_0 = calc_D(kbT,N0,Vsc,kbTD)\n",
    "s1_0,s2_0 = calc_cinduct(hw,D_0,kbT)\n",
    "wres_0 = calc_wres(s2_0,w0,hw,ak,lbd0,d,D_0,D0,kbT)\n",
    "Qi_0 = calc_Qi(s1_0,s2_0,ak,lbd0,d,D_0,D0,kbT)\n",
    "\n",
    "plt.figure(figsize = (5,5))\n",
    "for dw in np.arange(-10**-2,10**-2,10**-5):\n",
    "    S21_0 = calc_S21(Qi_0,Qc,wres_0,dw,wres_0)\n",
    "    plt.plot(np.real(S21_0),np.imag(S21_0),'r.')\n",
    "\n",
    "for N_qp in np.arange(10,20,1):\n",
    "    kbTeff = calc_kbTeff(N_qp,N0,V,Vsc,kbTD,kbTc)\n",
    "    D = calc_D(kbTeff,N0,Vsc,kbTD)\n",
    "    s1,s2 = calc_cinduct(hw,D,kbTeff)\n",
    "    Qi = calc_Qi(s1,s2,ak,lbd0,d,D,D0,kbT)\n",
    "    wres = calc_wres(s2,w0,hw,ak,lbd0,d,D,D0,kbT)\n",
    "    S21 = calc_S21(Qi,Qc,wres_0,0,wres)\n",
    "    plt.plot(np.real(S21),np.imag(S21),'.b')"
   ]
  },
  {
   "cell_type": "code",
   "execution_count": 5,
   "metadata": {},
   "outputs": [
    {
     "data": {
      "text/plain": [
       "13.3057170857062"
      ]
     },
     "execution_count": 5,
     "metadata": {},
     "output_type": "execute_result"
    }
   ],
   "source": [
    "N_qp0"
   ]
  },
  {
   "cell_type": "code",
   "execution_count": 6,
   "metadata": {},
   "outputs": [
    {
     "data": {
      "text/plain": [
       "1.5633712802004985e-10"
      ]
     },
     "execution_count": 6,
     "metadata": {},
     "output_type": "execute_result"
    }
   ],
   "source": [
    "N_w0"
   ]
  }
 ],
 "metadata": {
  "kernelspec": {
   "display_name": "Python 3",
   "language": "python",
   "name": "python3"
  },
  "language_info": {
   "codemirror_mode": {
    "name": "ipython",
    "version": 3
   },
   "file_extension": ".py",
   "mimetype": "text/x-python",
   "name": "python",
   "nbconvert_exporter": "python",
   "pygments_lexer": "ipython3",
   "version": "3.7.4"
  }
 },
 "nbformat": 4,
 "nbformat_minor": 2
}
