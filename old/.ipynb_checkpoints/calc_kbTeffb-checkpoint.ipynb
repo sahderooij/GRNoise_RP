{
 "cells": [
  {
   "cell_type": "code",
   "execution_count": 29,
   "metadata": {},
   "outputs": [],
   "source": [
    "import numpy as np\n",
    "import matplotlib.pyplot as plt\n",
    "import scipy.integrate as integrate\n",
    "from scipy.optimize import minimize_scalar as minisc\n",
    "from kidcalc import D,cinduct,Qi,kbTeff\n",
    "import scipy.io\n",
    "from scipy.optimize import curve_fit"
   ]
  },
  {
   "cell_type": "code",
   "execution_count": 35,
   "metadata": {},
   "outputs": [],
   "source": [
    "#Extract relevant data\n",
    "data = np.genfromtxt('KID1_96dBm_Tdep.csv',delimiter=',')[1:,:]\n",
    "hw = data[:,5]*2*np.pi*.6582*1e-9\n",
    "kbT = data[:,1]*86.17 #µeV\n",
    "\n",
    "peakdata = scipy.io.loadmat('KID1_96dBm_402_3000points')['pulsemodelf']\n",
    "t = (np.arange(len(peakdata[0,:]))-500)*1e3\n",
    "peak = np.clip(peakdata[0,:],1e-3,None)"
   ]
  },
  {
   "cell_type": "code",
   "execution_count": 36,
   "metadata": {},
   "outputs": [],
   "source": [
    "#Set needed constants\n",
    "hw0 = hw[0] #data[0,23]*2*np.pi*.6582#WHICH ONE??!\n",
    "lbd0 = .092 #nm\n",
    "d = data[0,25]\n",
    "D0 = data[0,15]/1.602e-19*1e6 #µeV\n",
    "ak = 0.02686309\n",
    "V = data[0,14]\n",
    "t0 = 440.\n",
    "kbTc = 86.17*data[0,21]\n",
    "tesc = .14\n",
    "tpb = .28\n",
    "\n",
    "#For D calculation:\n",
    "N0 = 1.72e4\n",
    "kbTD = 37312.\n",
    "def integrand1(E,D):\n",
    "            return 1/np.sqrt(E**2-D**2)\n",
    "Vsc = 1/(integrate.quad(integrand1,D0,kbTD,args = (D0,))[0]*N0)"
   ]
  },
  {
   "cell_type": "markdown",
   "metadata": {},
   "source": [
    "## With S21 data, determine at which $T_{bath}$ we have this $Q_i$ "
   ]
  },
  {
   "cell_type": "code",
   "execution_count": 15,
   "metadata": {},
   "outputs": [],
   "source": [
    "def kbTeffb(ak,lbd0,d,D0,hw,Qit,N0,Vsc,kbTD):\n",
    "    def minfunc(kbT,ak,lbd0,d,D0,hw,Qit,N0,Vsc,kbTD):\n",
    "        D_t = D(kbT,N0,Vsc,kbTD)\n",
    "        s = cinduct(hw,D_t,kbT)\n",
    "        return np.abs(Qi(s[0],s[1],ak,lbd0,d,D_t,D0,kbT) - Qit)\n",
    "    res = minisc(minfunc, args = (ak,lbd0,d,D0,hw,Qit,N0,Vsc,kbTD), \n",
    "                 bounds = (0.,D0), method = 'bounded')\n",
    "    if res.success:\n",
    "        return res.x"
   ]
  },
  {
   "cell_type": "code",
   "execution_count": 16,
   "metadata": {},
   "outputs": [
    {
     "data": {
      "text/plain": [
       "17.823156846398337"
      ]
     },
     "execution_count": 16,
     "metadata": {},
     "output_type": "execute_result"
    }
   ],
   "source": [
    "kbTeffb(ak,lbd0,d,D0,hw0,data[0,4],N0,Vsc,kbTD)"
   ]
  },
  {
   "cell_type": "code",
   "execution_count": 10,
   "metadata": {},
   "outputs": [
    {
     "data": {
      "text/plain": [
       "0.20771774189007944"
      ]
     },
     "execution_count": 10,
     "metadata": {},
     "output_type": "execute_result"
    }
   ],
   "source": [
    "_/86.17"
   ]
  },
  {
   "cell_type": "markdown",
   "metadata": {},
   "source": [
    "## From peak, calculate $\\tau_{qp}$ and $N_{qp}^0$, and from that $T_{bath}$:"
   ]
  },
  {
   "cell_type": "code",
   "execution_count": 37,
   "metadata": {},
   "outputs": [
    {
     "data": {
      "text/plain": [
       "[<matplotlib.lines.Line2D at 0x2d407c2fc48>]"
      ]
     },
     "execution_count": 37,
     "metadata": {},
     "output_type": "execute_result"
    },
    {
     "data": {
      "image/png": "[encoded data removed]",
      "text/plain": [
       "<Figure size 432x288 with 1 Axes>"
      ]
     },
     "metadata": {
      "needs_background": "light"
     },
     "output_type": "display_data"
    }
   ],
   "source": [
    "t1 = t[np.round(3*len(t)/5).astype(int):]\n",
    "peak1 = peak[np.round(3*len(t)/5).astype(int):]\n",
    "fit = curve_fit(lambda x,a,b: b*np.exp(-x/a), t1, peak1, p0 = (.5e6,peak[500]))[0]\n",
    "\n",
    "plt.yscale('log')\n",
    "plt.plot(t,peak)\n",
    "plt.plot(t1,fit[1]*np.exp(-t1/fit[0]))\n",
    "\n",
    "t2 = t[np.round(len(t)/6).astype(int):np.round(len(t)/2).astype(int)]\n",
    "peak2 = peak[np.round(len(t)/6).astype(int):np.round(len(t)/2).astype(int)]\n",
    "\n",
    "fit2 = curve_fit(lambda x,a,b: b*np.exp(-x/a), t2, peak2, p0 = (.5e6,peak2[0]))[0]\n",
    "plt.plot(t2,fit2[1]*np.exp(-t2/fit2[0]))"
   ]
  },
  {
   "cell_type": "code",
   "execution_count": 38,
   "metadata": {},
   "outputs": [],
   "source": [
    "Nqp_0 = V*t0*N0*kbTc**3/(2*D0**2*fit[0])*.5*(1+tesc/tpb)"
   ]
  },
  {
   "cell_type": "code",
   "execution_count": 39,
   "metadata": {},
   "outputs": [
    {
     "data": {
      "text/plain": [
       "17.614227442357276"
      ]
     },
     "execution_count": 39,
     "metadata": {},
     "output_type": "execute_result"
    }
   ],
   "source": [
    "kbTeff(Nqp_0,N0,V,Vsc,kbTD,kbTc)"
   ]
  },
  {
   "cell_type": "code",
   "execution_count": 22,
   "metadata": {},
   "outputs": [
    {
     "data": {
      "text/plain": [
       "0.20441252689285452"
      ]
     },
     "execution_count": 22,
     "metadata": {},
     "output_type": "execute_result"
    }
   ],
   "source": [
    "_/86.17"
   ]
  }
 ],
 "metadata": {
  "kernelspec": {
   "display_name": "Python 3",
   "language": "python",
   "name": "python3"
  },
  "language_info": {
   "codemirror_mode": {
    "name": "ipython",
    "version": 3
   },
   "file_extension": ".py",
   "mimetype": "text/x-python",
   "name": "python",
   "nbconvert_exporter": "python",
   "pygments_lexer": "ipython3",
   "version": "3.7.4"
  }
 },
 "nbformat": 4,
 "nbformat_minor": 2
}
