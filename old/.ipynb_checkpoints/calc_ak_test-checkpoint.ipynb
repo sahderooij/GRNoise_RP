{
 "cells": [
  {
   "cell_type": "code",
   "execution_count": 1,
   "metadata": {},
   "outputs": [],
   "source": [
    "import numpy as np\n",
    "import matplotlib.pyplot as plt\n",
    "from KID import KID\n",
    "import datacalc\n",
    "import kidcalc\n",
    "from scipy import interpolate"
   ]
  },
  {
   "cell_type": "code",
   "execution_count": 2,
   "metadata": {},
   "outputs": [
    {
     "name": "stderr",
     "output_type": "stream",
     "text": [
      "C:\\Users\\Steven\\Anaconda3\\lib\\site-packages\\scipy\\io\\matlab\\mio.py:208: MatReadWarning: Duplicate variable name \"None\" in stream - replacing previous with new\n",
      "Consider mio5.varmats_from_mat to split file into single variable files\n",
      "  matfile_dict = MR.get_variables(variable_names)\n"
     ]
    }
   ],
   "source": [
    "KIDnum = 6\n",
    "Pread = 96\n",
    "Tbath = 220\n",
    "wvlngth = 402\n",
    "\n",
    "S21data,peakdata_ph,peakdata_amp = datacalc.get_data(KIDnum,Pread,Tbath,wvlngth)"
   ]
  },
  {
   "cell_type": "code",
   "execution_count": 3,
   "metadata": {},
   "outputs": [],
   "source": [
    "#Set constants for kid init\n",
    "Tind = np.abs(S21data[:,1]*1000-Tbath).argmin()\n",
    "Qc = S21data[Tind,3]\n",
    "hw0 = .6582*1e-9*np.pi*2*S21data[0,5]\n",
    "kbT0 = 86.17*S21data[0,1]\n",
    "V = S21data[0,14]\n",
    "d = S21data[0,25]\n",
    "ak = datacalc.ak(S21data)\n",
    "kbT = datacalc.kbTbeff(S21data,peakdata_ph)\n",
    "\n",
    "k = KID(Qc = Qc,hw0 = hw0, kbT0 = kbT0, kbT = kbT, \n",
    "        V = V, ak = ak, d = d)\n",
    "k.epb = .2"
   ]
  },
  {
   "cell_type": "code",
   "execution_count": 5,
   "metadata": {},
   "outputs": [
    {
     "data": {
      "text/plain": [
       "[<matplotlib.lines.Line2D at 0x134af2809e8>]"
      ]
     },
     "execution_count": 5,
     "metadata": {},
     "output_type": "execute_result"
    },
    {
     "data": {
      "image/png": "[encoded data removed]",
      "text/plain": [
       "<Figure size 432x288 with 1 Axes>"
      ]
     },
     "metadata": {
      "needs_background": "light"
     },
     "output_type": "display_data"
    }
   ],
   "source": [
    "for kbTi in S21data[:,1]*86.17:\n",
    "    D = kidcalc.D(kbTi,k.N0,k.Vsc,k.kbTD)\n",
    "    plt.plot(kbTi,kidcalc.hwread(hw0,kbT0,ak,k.lbd0,d,D\n",
    "                                ,k.D0,kbTi,k.N0,k.Vsc,k.kbTD),'r.')\n",
    "plt.plot(S21data[:,1]*86.17,S21data[:,5]*2*np.pi*.6582*1e-9)"
   ]
  },
  {
   "cell_type": "code",
   "execution_count": 9,
   "metadata": {},
   "outputs": [
    {
     "data": {
      "text/plain": [
       "array([0.06094556])"
      ]
     },
     "execution_count": 9,
     "metadata": {},
     "output_type": "execute_result"
    }
   ],
   "source": [
    "ak"
   ]
  },
  {
   "cell_type": "code",
   "execution_count": null,
   "metadata": {},
   "outputs": [],
   "source": []
  }
 ],
 "metadata": {
  "kernelspec": {
   "display_name": "Python 3",
   "language": "python",
   "name": "python3"
  },
  "language_info": {
   "codemirror_mode": {
    "name": "ipython",
    "version": 3
   },
   "file_extension": ".py",
   "mimetype": "text/x-python",
   "name": "python",
   "nbconvert_exporter": "python",
   "pygments_lexer": "ipython3",
   "version": "3.7.3"
  }
 },
 "nbformat": 4,
 "nbformat_minor": 4
}
