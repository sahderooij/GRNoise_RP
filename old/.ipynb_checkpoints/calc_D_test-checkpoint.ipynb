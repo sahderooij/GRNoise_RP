{
 "cells": [
  {
   "cell_type": "code",
   "execution_count": 2,
   "metadata": {},
   "outputs": [],
   "source": [
    "import numpy as np\n",
    "from calc_funcs import calc_D\n",
    "import matplotlib.pyplot as plt\n",
    "\n",
    "plt.figure()\n",
    "for kbT in np.arange(.1,.94,.05):\n",
    "    plt.plot(kbT,calc_D(kbT,1/6.12,1.,400.),'r.')\n"
   ]
  },
  {
   "cell_type": "code",
   "execution_count": 9,
   "metadata": {},
   "outputs": [
    {
     "data": {
      "text/plain": [
       "(6.04180472902263, 1.0873257849652873e-09)"
      ]
     },
     "execution_count": 9,
     "metadata": {},
     "output_type": "execute_result"
    }
   ],
   "source": [
    "#To estimate the factor N0*Vsc\n",
    "\n",
    "import scipy.integrate as integrate\n",
    "def integrand1(E,D):\n",
    "    return 1/np.sqrt(E**2-D**2)\n",
    "D = 177.4\n",
    "kbTD = 37312.\n",
    "\n",
    "integrate.quad(integrand1,D,kbTD,args = (D,))"
   ]
  }
 ],
 "metadata": {
  "kernelspec": {
   "display_name": "Python 3",
   "language": "python",
   "name": "python3"
  },
  "language_info": {
   "codemirror_mode": {
    "name": "ipython",
    "version": 3
   },
   "file_extension": ".py",
   "mimetype": "text/x-python",
   "name": "python",
   "nbconvert_exporter": "python",
   "pygments_lexer": "ipython3",
   "version": "3.7.4"
  }
 },
 "nbformat": 4,
 "nbformat_minor": 2
}
