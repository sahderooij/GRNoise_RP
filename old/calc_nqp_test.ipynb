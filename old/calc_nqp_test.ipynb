{
 "cells": [
  {
   "cell_type": "code",
   "execution_count": 8,
   "metadata": {},
   "outputs": [
    {
     "data": {
      "image/png": "[encoded data removed]",
      "text/plain": [
       "<Figure size 432x288 with 1 Axes>"
      ]
     },
     "metadata": {
      "needs_background": "light"
     },
     "output_type": "display_data"
    }
   ],
   "source": [
    "import numpy as np\n",
    "import scipy.integrate as integrate\n",
    "import matplotlib.pyplot as plt\n",
    "from calc_funcs import calc_nqp\n",
    "\n",
    "plt.figure()\n",
    "for kbT in np.arange(.1,1.,.05):\n",
    "    plt.plot(kbT,calc_nqp(kbT,1.,1.)*10**3,'r.')"
   ]
  },
  {
   "cell_type": "code",
   "execution_count": 9,
   "metadata": {},
   "outputs": [],
   "source": [
    "from calc_funcs import calc_nqp, calc_D\n",
    "### General parameters\n",
    "V = 10.**3 # um^3\n",
    "kbTc = 100.8 #ueV\n",
    "D0 = 1.76*kbTc #ueV\n",
    "kbT = D0/7 #ueV\n",
    "kbTD = 37312. #ueV\n",
    "N0 = 1.74*10**4 #ueV^-1 um^-3\n",
    "Vsc = .1655/1.74*10**-4 #ueV um^3, so that 1/N0*Vsc = 6.12, from 2.2\n",
    "t0 = 440 #ns\n",
    "tesc = .17 #ns\n",
    "tpb = .11 #ns\n",
    "ak = .28 #arb.\n",
    "d = .06 #um\n",
    "lbd0 = .092 #um\n",
    "hw = D0/10 #ueV\n",
    "w0 = 26.96 #2*pi*GHz (To match MW,hw)\n",
    "Qc = 2*10**5 #arb.\n",
    "\n",
    "Nqp0 = V*calc_nqp(kbT,calc_D(kbT,N0,Vsc,kbTD),N0)\n"
   ]
  },
  {
   "cell_type": "code",
   "execution_count": 10,
   "metadata": {},
   "outputs": [
    {
     "name": "stderr",
     "output_type": "stream",
     "text": [
      "C:\\Users\\Steven\\Anaconda3\\lib\\site-packages\\ipykernel_launcher.py:2: RuntimeWarning: overflow encountered in double_scalars\n",
      "  \n"
     ]
    },
    {
     "data": {
      "text/plain": [
       "(1.7730060711788696e-05, 2.3503180665277865e-12)"
      ]
     },
     "execution_count": 10,
     "metadata": {},
     "output_type": "execute_result"
    }
   ],
   "source": [
    "def integrand(E,V,kbT):\n",
    "    return V*E/(.658**3*2*np.pi*63.2**3*(np.exp(E/kbT)-1))\n",
    "integrate.quad(integrand,2*D0,kbTD,args = (V,kbT))"
   ]
  },
  {
   "cell_type": "code",
   "execution_count": null,
   "metadata": {},
   "outputs": [],
   "source": []
  }
 ],
 "metadata": {
  "kernelspec": {
   "display_name": "Python 3",
   "language": "python",
   "name": "python3"
  },
  "language_info": {
   "codemirror_mode": {
    "name": "ipython",
    "version": 3
   },
   "file_extension": ".py",
   "mimetype": "text/x-python",
   "name": "python",
   "nbconvert_exporter": "python",
   "pygments_lexer": "ipython3",
   "version": "3.7.4"
  }
 },
 "nbformat": 4,
 "nbformat_minor": 2
}
