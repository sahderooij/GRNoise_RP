{
 "cells": [
  {
   "cell_type": "code",
   "execution_count": 2,
   "metadata": {},
   "outputs": [],
   "source": [
    "import numpy as np\n",
    "import matplotlib.pyplot as plt\n",
    "import scipy.integrate as integrate\n",
    "from scipy.optimize import minimize_scalar as minisc\n",
    "from kidcalc import D,cinduct,Qi,kbTeff\n",
    "import scipy.io\n",
    "from scipy.optimize import curve_fit"
   ]
  },
  {
   "cell_type": "code",
   "execution_count": 3,
   "metadata": {},
   "outputs": [],
   "source": [
    "KIDnum = 1\n",
    "Pread = 96\n",
    "Tbath = 120\n",
    "wvlngth = 402\n",
    "\n",
    "S21data,peakdata = datacalc.get_data(KIDnum,Pread,Tbath,wvlngth)"
   ]
  },
  {
   "cell_type": "code",
   "execution_count": 3,
   "metadata": {},
   "outputs": [
    {
     "name": "stderr",
     "output_type": "stream",
     "text": [
      "C:\\Users\\Steven\\Anaconda3\\lib\\site-packages\\scipy\\io\\matlab\\mio.py:208: MatReadWarning: Duplicate variable name \"None\" in stream - replacing previous with new\n",
      "Consider mio5.varmats_from_mat to split file into single variable files\n",
      "  matfile_dict = MR.get_variables(variable_names)\n"
     ]
    }
   ],
   "source": [
    "S21data = np.genfromtxt(S21file,delimiter = ',')[1:,:]\n",
    "peakdata = scipy.io.loadmat(peakfile)['pulsemodelfo']"
   ]
  },
  {
   "cell_type": "code",
   "execution_count": 4,
   "metadata": {},
   "outputs": [],
   "source": [
    "#Extract relevant data\n",
    "hw = S21data[:,5]*2*np.pi*.6582*1e-9 #µeV\n",
    "kbT = S21data[:,1]*86.17 #µeV\n",
    "\n",
    "t = (np.arange(len(peakdata[0,:]))-500)*1e3\n",
    "peak = np.clip(peakdata[0,:],1e-3,None)"
   ]
  },
  {
   "cell_type": "code",
   "execution_count": 6,
   "metadata": {},
   "outputs": [],
   "source": [
    "#Set needed constants\n",
    "hw0 = hw[0] #data[0,23]*2*np.pi*.6582#WHICH ONE??!\n",
    "lbd0 = .092 #nm\n",
    "d = S21data[0,25]\n",
    "D0 = S21data[0,15]/1.602e-19*1e6 #µeV\n",
    "ak = 0.02686309\n",
    "V = S21data[0,14]\n",
    "t0 = 440.\n",
    "kbTc = 86.17*S21data[0,21]\n",
    "tesc = .14\n",
    "tpb = .28\n",
    "\n",
    "#For D calculation:\n",
    "N0 = 1.72e4\n",
    "kbTD = 37312.\n",
    "def integrand1(E,D):\n",
    "            return 1/np.sqrt(E**2-D**2)\n",
    "Vsc = 1/(integrate.quad(integrand1,D0,kbTD,args = (D0,))[0]*N0)"
   ]
  },
  {
   "cell_type": "code",
   "execution_count": 7,
   "metadata": {},
   "outputs": [
    {
     "data": {
      "text/plain": [
       "[<matplotlib.lines.Line2D at 0x1ba0e237b00>]"
      ]
     },
     "execution_count": 7,
     "metadata": {},
     "output_type": "execute_result"
    },
    {
     "data": {
      "image/png": "[encoded data removed]",
      "text/plain": [
       "<Figure size 432x288 with 1 Axes>"
      ]
     },
     "metadata": {
      "needs_background": "light"
     },
     "output_type": "display_data"
    }
   ],
   "source": [
    "t1 = t[np.round(3*len(t)/5).astype(int):]\n",
    "peak1 = peak[np.round(3*len(t)/5).astype(int):]\n",
    "fit = curve_fit(lambda x,a,b: b*np.exp(-x/a), t1, peak1, p0 = (.5e6,peak[500]))[0]\n",
    "\n",
    "plt.yscale('log')\n",
    "plt.plot(t,peak)\n",
    "plt.plot(t1,fit[1]*np.exp(-t1/fit[0]))\n",
    "\n",
    "t2 = t[np.round(len(t)/6).astype(int):np.round(len(t)/2).astype(int)]\n",
    "peak2 = peak[np.round(len(t)/6).astype(int):np.round(len(t)/2).astype(int)]\n",
    "\n",
    "fit2 = curve_fit(lambda x,a,b: b*np.exp(-x/a), t2, peak2, p0 = (.5e6,peak2[0]))[0]\n",
    "plt.plot(t2,fit2[1]*np.exp(-t2/fit2[0]))"
   ]
  },
  {
   "cell_type": "code",
   "execution_count": 8,
   "metadata": {},
   "outputs": [],
   "source": [
    "Nqp_0 = V*t0*N0*kbTc**3/(2*D0**2*fit2[0])*.5*(1+tesc/tpb)"
   ]
  },
  {
   "cell_type": "code",
   "execution_count": 9,
   "metadata": {},
   "outputs": [
    {
     "data": {
      "text/plain": [
       "19.55563268911148"
      ]
     },
     "execution_count": 9,
     "metadata": {},
     "output_type": "execute_result"
    }
   ],
   "source": [
    "kbTeff(Nqp_0,N0,V,Vsc,kbTD,kbTc)"
   ]
  },
  {
   "cell_type": "code",
   "execution_count": 15,
   "metadata": {
    "scrolled": true
   },
   "outputs": [
    {
     "data": {
      "text/plain": [
       "0.21966120982558732"
      ]
     },
     "execution_count": 15,
     "metadata": {},
     "output_type": "execute_result"
    }
   ],
   "source": [
    "_/86.17"
   ]
  },
  {
   "cell_type": "markdown",
   "metadata": {},
   "source": [
    "## With S21 data, determine at which $T_{bath}$ we have this $Q_i$ "
   ]
  },
  {
   "cell_type": "code",
   "execution_count": 12,
   "metadata": {},
   "outputs": [],
   "source": [
    "def kbTeffb(ak,lbd0,d,D0,hw,Qit,N0,Vsc,kbTD):\n",
    "    def minfunc(kbT,ak,lbd0,d,D0,hw,Qit,N0,Vsc,kbTD):\n",
    "        D_t = D(kbT,N0,Vsc,kbTD)\n",
    "        s = cinduct(hw,D_t,kbT)\n",
    "        return np.abs(Qi(s[0],s[1],ak,lbd0,d,D_t,D0,kbT) - Qit)\n",
    "    res = minisc(minfunc, args = (ak,lbd0,d,D0,hw,Qit,N0,Vsc,kbTD), \n",
    "                 bounds = (0.,D0), method = 'bounded')\n",
    "    if res.success:\n",
    "        return res.x"
   ]
  },
  {
   "cell_type": "code",
   "execution_count": 13,
   "metadata": {},
   "outputs": [
    {
     "data": {
      "text/plain": [
       "17.823156846398337"
      ]
     },
     "execution_count": 13,
     "metadata": {},
     "output_type": "execute_result"
    }
   ],
   "source": [
    "kbTeffb(ak,lbd0,d,D0,hw0,data[0,4],N0,Vsc,kbTD)"
   ]
  },
  {
   "cell_type": "code",
   "execution_count": 10,
   "metadata": {},
   "outputs": [
    {
     "data": {
      "text/plain": [
       "0.20771774189007944"
      ]
     },
     "execution_count": 10,
     "metadata": {},
     "output_type": "execute_result"
    }
   ],
   "source": [
    "_/86.17"
   ]
  }
 ],
 "metadata": {
  "kernelspec": {
   "display_name": "Python 3",
   "language": "python",
   "name": "python3"
  },
  "language_info": {
   "codemirror_mode": {
    "name": "ipython",
    "version": 3
   },
   "file_extension": ".py",
   "mimetype": "text/x-python",
   "name": "python",
   "nbconvert_exporter": "python",
   "pygments_lexer": "ipython3",
   "version": "3.7.3"
  }
 },
 "nbformat": 4,
 "nbformat_minor": 4
}
